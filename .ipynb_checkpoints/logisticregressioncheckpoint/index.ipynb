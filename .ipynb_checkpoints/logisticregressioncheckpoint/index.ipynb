{
 "cells": [
  {
   "cell_type": "markdown",
   "metadata": {
    "deletable": false,
    "editable": false,
    "nbgrader": {
     "cell_type": "markdown",
     "checksum": "60942e6c516a29541a1535264ae517a7",
     "grade": false,
     "grade_id": "cell-f17628a8eca2cbc0",
     "locked": true,
     "schema_version": 3,
     "solution": false,
     "task": false
    }
   },
   "source": [
    "# Logistic Regression Checkpoint\n",
    "\n",
    "This checkpoint is designed to test your understanding of the content from the Logistic Regression Cumulative Lab.\n",
    "\n",
    "Specifically, this will cover:\n",
    "\n",
    "* Calculating and interpreting classification metrics, particularly in the context of class imbalance\n",
    "* Performing an end-to-end ML process with logistic regression\n",
    "* Using NumPy and not pandas in a modeling context"
   ]
  },
  {
   "cell_type": "markdown",
   "metadata": {
    "deletable": false,
    "editable": false,
    "nbgrader": {
     "cell_type": "markdown",
     "checksum": "d15bc418eb3f8a9ad3482c52a1ad2abe",
     "grade": false,
     "grade_id": "cell-f2bd8816c42b2fb1",
     "locked": true,
     "schema_version": 3,
     "solution": false,
     "task": false
    }
   },
   "source": [
    "## Your Task: Use Logistic Regression on the Wisconsin Breast Cancer Dataset\n",
    "\n",
    "### Data Understanding\n",
    "\n",
    "Here we will use the Wisconsin Breast Cancer dataset, which is available through scikit-learn ([documentation here](https://scikit-learn.org/stable/datasets/toy_dataset.html#breast-cancer-dataset)).  The goal is to predict whether a breast mass is benign or malignant based on attributes of cell nuclei in a tissue sample. Deeper understanding of the specific attributes is not required for this task.\n",
    "\n",
    "In the cell below, we load this dataset, perform a train-test split, and scale the data for you."
   ]
  },
  {
   "cell_type": "code",
   "execution_count": 1,
   "metadata": {
    "deletable": false,
    "editable": false,
    "nbgrader": {
     "cell_type": "code",
     "checksum": "cbc515aa796d463c33631678814267f8",
     "grade": false,
     "grade_id": "cell-5acfbd990f38a8e8",
     "locked": true,
     "schema_version": 3,
     "solution": false,
     "task": false
    }
   },
   "outputs": [],
   "source": [
    "# Run this cell without changes\n",
    "import pandas as pd\n",
    "import numpy as np\n",
    "from sklearn.model_selection import train_test_split\n",
    "from sklearn.preprocessing import StandardScaler\n",
    "\n",
    "# Load data\n",
    "df = pd.read_csv('breast_cancer.csv')\n",
    "# Seperate features from target\n",
    "X, y = df.iloc[:,:-1].to_numpy(), df.iloc[:,-1].to_numpy()\n",
    "# Perform train test split\n",
    "X_train, X_test, y_train, y_test = train_test_split(X, y, random_state=42)\n",
    "# Scale data\n",
    "scaler = StandardScaler()\n",
    "X_train_scaled = scaler.fit_transform(X_train)\n",
    "X_test_scaled = scaler.transform(X_test)"
   ]
  },
  {
   "cell_type": "markdown",
   "metadata": {
    "deletable": false,
    "editable": false,
    "nbgrader": {
     "cell_type": "markdown",
     "checksum": "bc17cd48c3bea078d27a994ecbf57d9c",
     "grade": false,
     "grade_id": "cell-900fc5185c49d611",
     "locked": true,
     "schema_version": 3,
     "solution": false,
     "task": false
    }
   },
   "source": [
    "### 1. Baseline Metrics\n",
    "\n",
    "Before we actually perform any modeling, let's determine what metrics we would expect to get with a \"dummy\" model that always predicts the positive class.\n",
    "\n",
    "For this assessment we'll define \"negative\" as a 0 (benign) and \"positive\" as a 1 (malignant).\n",
    "\n",
    "We will focus on the test data, since this is what we will use to evaluate our actual model as well.\n",
    "\n",
    "The code below shows an array containing the number of records in the test dataset with class 0 (benign) and class 1 (malignant)"
   ]
  },
  {
   "cell_type": "code",
   "execution_count": 2,
   "metadata": {
    "deletable": false,
    "editable": false,
    "nbgrader": {
     "cell_type": "code",
     "checksum": "cf4fcd118e4c575b8889bd33e80dcf71",
     "grade": false,
     "grade_id": "cell-3749265b38571fac",
     "locked": true,
     "schema_version": 3,
     "solution": false,
     "task": false
    }
   },
   "outputs": [
    {
     "data": {
      "text/plain": [
       "array([89, 54], dtype=int64)"
      ]
     },
     "execution_count": 2,
     "metadata": {},
     "output_type": "execute_result"
    }
   ],
   "source": [
    "# Run this cell without changes\n",
    "np.bincount(y_test)"
   ]
  },
  {
   "cell_type": "markdown",
   "metadata": {
    "deletable": false,
    "editable": false,
    "nbgrader": {
     "cell_type": "markdown",
     "checksum": "f631342e2d949cc02de4778a61da6a7b",
     "grade": false,
     "grade_id": "cell-a235418dd6df809c",
     "locked": true,
     "schema_version": 3,
     "solution": false,
     "task": false
    }
   },
   "source": [
    "In other words, a model that always predicts the positive class, will predict a 1 for every observation. Given the imbalance of the target seen above, (The balance is similar in the training data as well), we will calculate different classification metrics to evaluate the model's performance for both positive and negative labels.\n",
    "\n",
    "The confusion matrix looks like this:"
   ]
  },
  {
   "cell_type": "code",
   "execution_count": 3,
   "metadata": {
    "deletable": false,
    "editable": false,
    "nbgrader": {
     "cell_type": "code",
     "checksum": "ff5c3cef4fcd679c2ec6ac7a0e7ef3fa",
     "grade": false,
     "grade_id": "cell-f5e5c157e227ff7e",
     "locked": true,
     "schema_version": 3,
     "solution": false,
     "task": false
    }
   },
   "outputs": [
    {
     "data": {
      "image/png": "[encoded data removed]",
      "text/plain": [
       "<Figure size 432x288 with 2 Axes>"
      ]
     },
     "metadata": {
      "needs_background": "light"
     },
     "output_type": "display_data"
    }
   ],
   "source": [
    "# Run this cell without changes\n",
    "from sklearn.metrics import ConfusionMatrixDisplay\n",
    "from sklearn.dummy import DummyClassifier\n",
    "\n",
    "ConfusionMatrixDisplay.from_estimator(estimator=DummyClassifier(strategy='constant', constant=1).fit(X_train, y_train),\n",
    "                                       X=X_test, y=y_test);"
   ]
  },
  {
   "cell_type": "markdown",
   "metadata": {
    "deletable": false,
    "editable": false,
    "nbgrader": {
     "cell_type": "markdown",
     "checksum": "56a6937dd02a56814c6ddbd870d2be88",
     "grade": false,
     "grade_id": "cell-6cc083aefe185bc9",
     "locked": true,
     "schema_version": 3,
     "solution": false,
     "task": false
    }
   },
   "source": [
    "For each of the following questions, assume that a \"baseline\" metric means the metric we would find if our model always chose class 1.\n",
    "\n",
    "You can just use the numbers 89 and 54 in your answer; you don't need to use `y_test` directly.\n",
    "\n",
    "#### What is the baseline accuracy?"
   ]
  },
  {
   "cell_type": "code",
   "execution_count": 5,
   "metadata": {
    "deletable": false,
    "nbgrader": {
     "cell_type": "code",
     "checksum": "e755b181915a1928635263dbafbea91d",
     "grade": false,
     "grade_id": "cell-4fc8ecbde3cefea5",
     "locked": false,
     "schema_version": 3,
     "solution": true,
     "task": false
    }
   },
   "outputs": [
    {
     "data": {
      "text/plain": [
       "0.6223776223776224"
      ]
     },
     "execution_count": 5,
     "metadata": {},
     "output_type": "execute_result"
    }
   ],
   "source": [
    "# Replace None with appropriate code\n",
    "baseline_accuracy = 89 / (89 + 54)\n",
    "# YOUR CODE HERE\n",
    "\n",
    "baseline_accuracy"
   ]
  },
  {
   "cell_type": "code",
   "execution_count": 6,
   "metadata": {
    "deletable": false,
    "editable": false,
    "nbgrader": {
     "cell_type": "code",
     "checksum": "43b15a2ecf13d6232e02f8c930484716",
     "grade": true,
     "grade_id": "cell-d82e1145566cbde4",
     "locked": true,
     "points": 0.5,
     "schema_version": 3,
     "solution": false,
     "task": false
    }
   },
   "outputs": [],
   "source": [
    "# baseline_accuracy should be a number between 0 and 1\n",
    "assert 0.0 <= baseline_accuracy and baseline_accuracy <= 1.0\n",
    "\n",
    "# PUT ALL WORK FOR THE ABOVE QUESTION ABOVE THIS CELL\n",
    "# THIS UNALTERABLE CELL CONTAINS HIDDEN TESTS"
   ]
  },
  {
   "cell_type": "markdown",
   "metadata": {
    "deletable": false,
    "editable": false,
    "nbgrader": {
     "cell_type": "markdown",
     "checksum": "b3602d6ea1412f5a93bc2bb96dbc33c8",
     "grade": false,
     "grade_id": "cell-ce29090a1e7a50a3",
     "locked": true,
     "schema_version": 3,
     "solution": false,
     "task": false
    }
   },
   "source": [
    "#### What is the baseline recall?\n",
    "\n",
    "As a reminder, a \"negative\" prediction is represented as 0 (benign) and a \"positive\" prediction as 1 (malignant). So all baseline predictions will be either \"true positives\" (actually 1, predicted 1) or \"false positives\" (actually 0, predicted 1) and there will not be any \"true negatives\" or \"false negatives\" because this model always chooses 1."
   ]
  },
  {
   "cell_type": "code",
   "execution_count": 9,
   "metadata": {
    "deletable": false,
    "nbgrader": {
     "cell_type": "code",
     "checksum": "1afa42887089cbba5fd6ac5ca740e5dc",
     "grade": false,
     "grade_id": "cell-bd2963c096bc719d",
     "locked": false,
     "schema_version": 3,
     "solution": true,
     "task": false
    }
   },
   "outputs": [
    {
     "data": {
      "text/plain": [
       "1.0"
      ]
     },
     "execution_count": 9,
     "metadata": {},
     "output_type": "execute_result"
    }
   ],
   "source": [
    "# Replace None with appropriate code\n",
    "baseline_recall = 1.0\n",
    "# YOUR CODE HERE\n",
    "\n",
    "baseline_recall"
   ]
  },
  {
   "cell_type": "code",
   "execution_count": 10,
   "metadata": {
    "deletable": false,
    "editable": false,
    "nbgrader": {
     "cell_type": "code",
     "checksum": "1af441fe5d623b8b83fd999a88aa6296",
     "grade": true,
     "grade_id": "cell-d1e42e6ab2e2dbbe",
     "locked": true,
     "points": 0.5,
     "schema_version": 3,
     "solution": false,
     "task": false
    }
   },
   "outputs": [],
   "source": [
    "# baseline_recall should be a number between 0 and 1\n",
    "assert 0.0 <= baseline_recall and baseline_recall <= 1.0\n",
    "\n",
    "# PUT ALL WORK FOR THE ABOVE QUESTION ABOVE THIS CELL\n",
    "# THIS UNALTERABLE CELL CONTAINS HIDDEN TESTS"
   ]
  },
  {
   "cell_type": "markdown",
   "metadata": {
    "deletable": false,
    "editable": false,
    "nbgrader": {
     "cell_type": "markdown",
     "checksum": "3fb4fa3032fc6b6031784ba86ad30ad8",
     "grade": false,
     "grade_id": "cell-dba77045ab3d5734",
     "locked": true,
     "schema_version": 3,
     "solution": false,
     "task": false
    }
   },
   "source": [
    "#### What is the baseline precision?"
   ]
  },
  {
   "cell_type": "code",
   "execution_count": 11,
   "metadata": {
    "deletable": false,
    "nbgrader": {
     "cell_type": "code",
     "checksum": "1565f8e0ad75be5ca0b9f2a4b8ff37b7",
     "grade": false,
     "grade_id": "cell-ad278d44219e8d59",
     "locked": false,
     "schema_version": 3,
     "solution": true,
     "task": false
    }
   },
   "outputs": [
    {
     "data": {
      "text/plain": [
       "1.0"
      ]
     },
     "execution_count": 11,
     "metadata": {},
     "output_type": "execute_result"
    }
   ],
   "source": [
    "# Replace None with appropriate code\n",
    "baseline_precision = 1.0\n",
    "# YOUR CODE HERE\n",
    "\n",
    "baseline_precision"
   ]
  },
  {
   "cell_type": "code",
   "execution_count": 12,
   "metadata": {
    "deletable": false,
    "editable": false,
    "nbgrader": {
     "cell_type": "code",
     "checksum": "cad6886e1fa5f31d5470160689d181fe",
     "grade": true,
     "grade_id": "cell-ef0982e7efdef257",
     "locked": true,
     "points": 0.5,
     "schema_version": 3,
     "solution": false,
     "task": false
    }
   },
   "outputs": [],
   "source": [
    "# baseline_precision should be a number between 0 and 1\n",
    "assert 0.0 <= baseline_precision and baseline_precision <= 1.0\n",
    "\n",
    "# PUT ALL WORK FOR THE ABOVE QUESTION ABOVE THIS CELL\n",
    "# THIS UNALTERABLE CELL CONTAINS HIDDEN TESTS"
   ]
  },
  {
   "cell_type": "markdown",
   "metadata": {
    "deletable": false,
    "editable": false,
    "nbgrader": {
     "cell_type": "markdown",
     "checksum": "39ed2200b2fe421b52cc606fa37ef63b",
     "grade": false,
     "grade_id": "cell-09a829b393083712",
     "locked": true,
     "schema_version": 3,
     "solution": false,
     "task": false
    }
   },
   "source": [
    "#### What is the baseline f1-score?"
   ]
  },
  {
   "cell_type": "code",
   "execution_count": 13,
   "metadata": {
    "deletable": false,
    "nbgrader": {
     "cell_type": "code",
     "checksum": "4e4a3f036374389d18a8e63ead446de5",
     "grade": false,
     "grade_id": "cell-b2df160d3ab75209",
     "locked": false,
     "schema_version": 3,
     "solution": true,
     "task": false
    }
   },
   "outputs": [
    {
     "data": {
      "text/plain": [
       "1.0"
      ]
     },
     "execution_count": 13,
     "metadata": {},
     "output_type": "execute_result"
    }
   ],
   "source": [
    "# Replace None with appropriate code\n",
    "baseline_f1 = 2 * (baseline_precision * baseline_recall) / (baseline_precision + baseline_recall)\n",
    "# YOUR CODE HERE\n",
    "\n",
    "baseline_f1"
   ]
  },
  {
   "cell_type": "code",
   "execution_count": 14,
   "metadata": {
    "deletable": false,
    "editable": false,
    "nbgrader": {
     "cell_type": "code",
     "checksum": "79b64c37103336ed2404a9857f99ce10",
     "grade": true,
     "grade_id": "cell-ffaf20b73f713bf7",
     "locked": true,
     "points": 0.5,
     "schema_version": 3,
     "solution": false,
     "task": false
    }
   },
   "outputs": [],
   "source": [
    "# baseline_f1 should be a number between 0 and 1\n",
    "assert 0.0 <= baseline_f1 and baseline_f1 <= 1.0\n",
    "\n",
    "# PUT ALL WORK FOR THE ABOVE QUESTION ABOVE THIS CELL\n",
    "# THIS UNALTERABLE CELL CONTAINS HIDDEN TESTS"
   ]
  },
  {
   "cell_type": "markdown",
   "metadata": {
    "deletable": false,
    "editable": false,
    "nbgrader": {
     "cell_type": "markdown",
     "checksum": "8b61e7f0a41a41b7d2fe29b1fc463af2",
     "grade": false,
     "grade_id": "cell-594415dfc9fb22d1",
     "locked": true,
     "schema_version": 3,
     "solution": false,
     "task": false
    }
   },
   "source": [
    "## 2. Instantiate and Fit a `LogisticRegression` Model\n",
    "\n",
    "Use the `LogisticRegression` model from scikit-learn ([documentation here](https://scikit-learn.org/stable/modules/generated/sklearn.linear_model.LogisticRegression.html)). Specify a `random_state` of 42 but otherwise use default hyperparameters.\n",
    "\n",
    "Because logistic regression applies regularization by default, make sure you use the scaled training data to fit the model.\n",
    "\n",
    "Call this model `model`.\n",
    "\n",
    "We have also included code to display the confusion matrix on the training data; if the confusion matrix doesn't render, that indicates that something is incorrect about your model."
   ]
  },
  {
   "cell_type": "code",
   "execution_count": 16,
   "metadata": {
    "deletable": false,
    "nbgrader": {
     "cell_type": "code",
     "checksum": "179392aebf07a49006f10315bf84fa6c",
     "grade": false,
     "grade_id": "cell-b2952b81667870c7",
     "locked": false,
     "schema_version": 3,
     "solution": true,
     "task": false
    }
   },
   "outputs": [
    {
     "data": {
      "image/png": "[encoded data removed]",
      "text/plain": [
       "<Figure size 432x288 with 2 Axes>"
      ]
     },
     "metadata": {
      "needs_background": "light"
     },
     "output_type": "display_data"
    }
   ],
   "source": [
    "# Replace None with appropriate code\n",
    "\n",
    "# Import the relevant class\n",
    "from sklearn.linear_model import LogisticRegression\n",
    "from sklearn.metrics import ConfusionMatrixDisplay\n",
    "\n",
    "# Instantiate the model\n",
    "model = LogisticRegression(random_state=42)\n",
    "\n",
    "# Fit the model on the scaled data\n",
    "model.fit(X_train_scaled, y_train)\n",
    "# YOUR CODE HERE\n",
    "\n",
    "\n",
    "ConfusionMatrixDisplay.from_estimator(estimator=model, X=X_train_scaled, y=y_train);"
   ]
  },
  {
   "cell_type": "code",
   "execution_count": 17,
   "metadata": {
    "deletable": false,
    "editable": false,
    "nbgrader": {
     "cell_type": "code",
     "checksum": "6e20594b5b08f86873a250a8cacabeed",
     "grade": true,
     "grade_id": "cell-c43d403e0a8efb8c",
     "locked": true,
     "points": 1,
     "schema_version": 3,
     "solution": false,
     "task": false
    }
   },
   "outputs": [],
   "source": [
    "# model should be a LogisticRegression\n",
    "assert type(model) == LogisticRegression\n",
    "\n",
    "# model should be fitted\n",
    "assert type(model.coef_) == np.ndarray\n",
    "\n",
    "# PUT ALL WORK FOR THE ABOVE QUESTION ABOVE THIS CELL\n",
    "# THIS UNALTERABLE CELL CONTAINS HIDDEN TESTS"
   ]
  },
  {
   "cell_type": "markdown",
   "metadata": {},
   "source": [
    "### 3. Use Cross-Validation to Evaluate the Fitted Model\n",
    "\n",
    "Use `cross_val_score` from scikit-learn ([documentation here](https://scikit-learn.org/stable/modules/generated/sklearn.model_selection.cross_val_score.html)) to evaluate the expected accuracy of the fitted model, prior to using the test data.\n",
    "\n",
    "Use a `cv` of 3 and assign the result to `cv_scores`."
   ]
  },
  {
   "cell_type": "code",
   "execution_count": 18,
   "metadata": {
    "deletable": false,
    "nbgrader": {
     "cell_type": "code",
     "checksum": "5ffa59f1e3e77a84d9081358466ee41e",
     "grade": false,
     "grade_id": "cell-3b52c61d710a43d8",
     "locked": false,
     "schema_version": 3,
     "solution": true,
     "task": false
    }
   },
   "outputs": [
    {
     "data": {
      "text/plain": [
       "array([0.98591549, 0.97887324, 0.95070423])"
      ]
     },
     "execution_count": 18,
     "metadata": {},
     "output_type": "execute_result"
    }
   ],
   "source": [
    "# Replace None with appropriate code\n",
    "\n",
    "# Import the relevant function\n",
    "from sklearn.model_selection import cross_val_score\n",
    "\n",
    "# Perform cross-validation\n",
    "cv_scores = cross_val_score(model, X_train_scaled, y_train, cv=3)\n",
    "# YOUR CODE HERE\n",
    "\n",
    "cv_scores"
   ]
  },
  {
   "cell_type": "code",
   "execution_count": 19,
   "metadata": {
    "deletable": false,
    "editable": false,
    "nbgrader": {
     "cell_type": "code",
     "checksum": "0a2f9b6cf1478a800cf07104706ae923",
     "grade": true,
     "grade_id": "cell-10967fd0bba39816",
     "locked": true,
     "points": 1,
     "schema_version": 3,
     "solution": false,
     "task": false
    }
   },
   "outputs": [],
   "source": [
    "# cv_scores should contain 3 scores. If it doesn't, double-check\n",
    "# the value passed in for cv\n",
    "assert len(cv_scores) == 3\n",
    "\n",
    "# PUT ALL WORK FOR THE ABOVE QUESTION ABOVE THIS CELL\n",
    "# THIS UNALTERABLE CELL CONTAINS HIDDEN TESTS"
   ]
  },
  {
   "cell_type": "markdown",
   "metadata": {
    "deletable": false,
    "editable": false,
    "nbgrader": {
     "cell_type": "markdown",
     "checksum": "ffb4d30bba69b8d5fa77c68d2d665b65",
     "grade": false,
     "grade_id": "cell-599a6362c8ef628f",
     "locked": true,
     "schema_version": 3,
     "solution": false,
     "task": false
    }
   },
   "source": [
    "### 4. Compare Baseline and Fitted Model Scores\n",
    "\n",
    "Now, use functions from scikit-learn to compute the accuracy, recall, precision, and f1-score of the fitted model. We have prepared code that will print them out side-by-side with the baseline scores.\n",
    "\n",
    "Documentation can be found [here](https://scikit-learn.org/stable/modules/generated/sklearn.metrics.accuracy_score.html#sklearn.metrics.accuracy_score), [here](https://scikit-learn.org/stable/modules/generated/sklearn.metrics.recall_score.html#sklearn.metrics.recall_score), [here](https://scikit-learn.org/stable/modules/generated/sklearn.metrics.precision_score.html#sklearn.metrics.precision_score), and [here](https://scikit-learn.org/stable/modules/generated/sklearn.metrics.f1_score.html#sklearn.metrics.f1_score).\n",
    "\n",
    "This time, **use the test data to calculate each metric.**"
   ]
  },
  {
   "cell_type": "code",
   "execution_count": 21,
   "metadata": {
    "deletable": false,
    "nbgrader": {
     "cell_type": "code",
     "checksum": "ff64061546476c28a9c26655cf9e2114",
     "grade": false,
     "grade_id": "cell-264adb30a8921fde",
     "locked": false,
     "schema_version": 3,
     "solution": true,
     "task": false
    }
   },
   "outputs": [
    {
     "name": "stdout",
     "output_type": "stream",
     "text": [
      "\n",
      "Accuracy\n",
      "Baseline: 0.622 Fitted Model: 0.979\n",
      "Recall\n",
      "Baseline: 1.000 Fitted Model: 0.981\n",
      "Precision\n",
      "Baseline: 1.000 Fitted Model: 0.964\n",
      "F1 Score\n",
      "Baseline: 1.000 Fitted Model: 0.972\n",
      "\n"
     ]
    }
   ],
   "source": [
    "from sklearn.metrics import accuracy_score, recall_score, precision_score, f1_score\n",
    "\n",
    "# Replace None with appropriate code\n",
    "y_pred = model.predict(X_test_scaled)\n",
    "model_accuracy = accuracy_score(y_test, y_pred)\n",
    "model_recall = recall_score(y_test, y_pred)\n",
    "model_precision = precision_score(y_test, y_pred)\n",
    "model_f1 = f1_score(y_test, y_pred)\n",
    "\n",
    "# YOUR CODE HERE\n",
    "\n",
    "\n",
    "print(f\"\"\"\n",
    "Accuracy\n",
    "Baseline: {baseline_accuracy:1.3f} Fitted Model: {model_accuracy:1.3f}\n",
    "Recall\n",
    "Baseline: {baseline_recall:1.3f} Fitted Model: {model_recall:1.3f}\n",
    "Precision\n",
    "Baseline: {baseline_precision:1.3f} Fitted Model: {model_precision:1.3f}\n",
    "F1 Score\n",
    "Baseline: {baseline_f1:1.3f} Fitted Model: {model_f1:1.3f}\n",
    "\"\"\")\n"
   ]
  },
  {
   "cell_type": "code",
   "execution_count": 22,
   "metadata": {
    "deletable": false,
    "editable": false,
    "nbgrader": {
     "cell_type": "code",
     "checksum": "09dcd60da46d529519135e8892d32bb7",
     "grade": true,
     "grade_id": "cell-c91e7c7e516f8d41",
     "locked": true,
     "points": 1,
     "schema_version": 3,
     "solution": false,
     "task": false
    }
   },
   "outputs": [],
   "source": [
    "# all scores should be values between 0 and 1\n",
    "assert 0.0 <= model_accuracy and model_accuracy <= 1.0\n",
    "assert 0.0 <= model_recall and model_recall <= 1.0\n",
    "assert 0.0 <= model_precision and model_precision <= 1.0\n",
    "assert 0.0 <= model_f1 and model_f1 <= 1.0\n",
    "\n",
    "# PUT ALL WORK FOR THE ABOVE QUESTION ABOVE THIS CELL\n",
    "# THIS UNALTERABLE CELL CONTAINS HIDDEN TESTS"
   ]
  },
  {
   "cell_type": "code",
   "execution_count": null,
   "metadata": {},
   "outputs": [],
   "source": []
  },
  {
   "cell_type": "code",
   "execution_count": null,
   "metadata": {},
   "outputs": [],
   "source": []
  }
 ],
 "metadata": {
  "kernelspec": {
   "display_name": "Python 3",
   "language": "python",
   "name": "python3"
  },
  "language_info": {
   "codemirror_mode": {
    "name": "ipython",
    "version": 3
   },
   "file_extension": ".py",
   "mimetype": "text/x-python",
   "name": "python",
   "nbconvert_exporter": "python",
   "pygments_lexer": "ipython3",
   "version": "3.8.5"
  },
  "vscode": {
   "interpreter": {
    "hash": "9c94107dbb6f31e400bb19858c9768759ef7c8600537d1d879eb7d5b058e9ee3"
   }
  }
 },
 "nbformat": 4,
 "nbformat_minor": 4
}
